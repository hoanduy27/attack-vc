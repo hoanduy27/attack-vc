{
 "cells": [
  {
   "cell_type": "code",
   "execution_count": null,
   "metadata": {},
   "outputs": [],
   "source": [
    "import librosa.display\n",
    "import soundfile as sf \n",
    "import matplotlib.pyplot\n",
    "\n",
    "y, sr = librosa.load('synthesis.wav')\n",
    "fig, ax = plt.subplots(nrows=3, sharex=True)\n",
    "librosa.display.waveshow(y, sr=sr, ax=ax[0])\n",
    "ax[0].set(title='Envelope view, mono')\n",
    "ax[0].label_outer()"
   ]
  },
  {
   "cell_type": "code",
   "execution_count": null,
   "metadata": {},
   "outputs": [],
   "source": [
    "import librosa.display\n",
    "import soundfile as sf \n",
    "import matplotlib.pyplot\n",
    "\n",
    "y, sr = librosa.load('synthesis_defense.wav')\n",
    "fig, ax = plt.subplots(nrows=3, sharex=True)\n",
    "librosa.display.waveshow(y, sr=sr, ax=ax[0])\n",
    "ax[0].set(title='Envelope view, mono')\n",
    "ax[0].label_outer()"
   ]
  }
 ],
 "metadata": {
  "kernelspec": {
   "display_name": "espnet",
   "language": "python",
   "name": "python3"
  },
  "language_info": {
   "codemirror_mode": {
    "name": "ipython",
    "version": 3
   },
   "file_extension": ".py",
   "mimetype": "text/x-python",
   "name": "python",
   "nbconvert_exporter": "python",
   "pygments_lexer": "ipython3",
   "version": "3.8.16"
  },
  "orig_nbformat": 4
 },
 "nbformat": 4,
 "nbformat_minor": 2
}
